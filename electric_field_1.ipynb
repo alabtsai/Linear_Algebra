{
 "cells": [
  {
   "cell_type": "code",
   "execution_count": 11,
   "metadata": {
    "collapsed": true
   },
   "outputs": [],
   "source": [
    "import numpy as np\n",
    "from scipy import linalg\n",
    "from math import pi\n",
    "import matplotlib.pyplot as plt\n",
    "%matplotlib inline"
   ]
  },
  {
   "cell_type": "code",
   "execution_count": 2,
   "metadata": {},
   "outputs": [
    {
     "data": {
      "text/plain": [
       "'/home/how/Linear_STRANG/Linear_Algebra'"
      ]
     },
     "execution_count": 2,
     "metadata": {},
     "output_type": "execute_result"
    }
   ],
   "source": [
    "%pwd"
   ]
  },
  {
   "cell_type": "code",
   "execution_count": 6,
   "metadata": {
    "collapsed": true
   },
   "outputs": [],
   "source": [
    "t=np.linspace(0.0001, pi, num=100)"
   ]
  },
  {
   "cell_type": "code",
   "execution_count": 7,
   "metadata": {},
   "outputs": [
    {
     "data": {
      "text/plain": [
       "array([  1.00000000e-04,   3.18322490e-02,   6.35644981e-02,\n",
       "         9.52967471e-02,   1.27028996e-01,   1.58761245e-01,\n",
       "         1.90493494e-01,   2.22225743e-01,   2.53957992e-01,\n",
       "         2.85690241e-01,   3.17422490e-01,   3.49154739e-01,\n",
       "         3.80886988e-01,   4.12619237e-01,   4.44351486e-01,\n",
       "         4.76083735e-01,   5.07815984e-01,   5.39548233e-01,\n",
       "         5.71280482e-01,   6.03012731e-01,   6.34744981e-01,\n",
       "         6.66477230e-01,   6.98209479e-01,   7.29941728e-01,\n",
       "         7.61673977e-01,   7.93406226e-01,   8.25138475e-01,\n",
       "         8.56870724e-01,   8.88602973e-01,   9.20335222e-01,\n",
       "         9.52067471e-01,   9.83799720e-01,   1.01553197e+00,\n",
       "         1.04726422e+00,   1.07899647e+00,   1.11072872e+00,\n",
       "         1.14246096e+00,   1.17419321e+00,   1.20592546e+00,\n",
       "         1.23765771e+00,   1.26938996e+00,   1.30112221e+00,\n",
       "         1.33285446e+00,   1.36458671e+00,   1.39631896e+00,\n",
       "         1.42805121e+00,   1.45978346e+00,   1.49151570e+00,\n",
       "         1.52324795e+00,   1.55498020e+00,   1.58671245e+00,\n",
       "         1.61844470e+00,   1.65017695e+00,   1.68190920e+00,\n",
       "         1.71364145e+00,   1.74537370e+00,   1.77710595e+00,\n",
       "         1.80883819e+00,   1.84057044e+00,   1.87230269e+00,\n",
       "         1.90403494e+00,   1.93576719e+00,   1.96749944e+00,\n",
       "         1.99923169e+00,   2.03096394e+00,   2.06269619e+00,\n",
       "         2.09442844e+00,   2.12616068e+00,   2.15789293e+00,\n",
       "         2.18962518e+00,   2.22135743e+00,   2.25308968e+00,\n",
       "         2.28482193e+00,   2.31655418e+00,   2.34828643e+00,\n",
       "         2.38001868e+00,   2.41175093e+00,   2.44348318e+00,\n",
       "         2.47521542e+00,   2.50694767e+00,   2.53867992e+00,\n",
       "         2.57041217e+00,   2.60214442e+00,   2.63387667e+00,\n",
       "         2.66560892e+00,   2.69734117e+00,   2.72907342e+00,\n",
       "         2.76080567e+00,   2.79253791e+00,   2.82427016e+00,\n",
       "         2.85600241e+00,   2.88773466e+00,   2.91946691e+00,\n",
       "         2.95119916e+00,   2.98293141e+00,   3.01466366e+00,\n",
       "         3.04639591e+00,   3.07812816e+00,   3.10986040e+00,\n",
       "         3.14159265e+00])"
      ]
     },
     "execution_count": 7,
     "metadata": {},
     "output_type": "execute_result"
    }
   ],
   "source": [
    "t"
   ]
  },
  {
   "cell_type": "code",
   "execution_count": 8,
   "metadata": {},
   "outputs": [
    {
     "data": {
      "text/plain": [
       "100"
      ]
     },
     "execution_count": 8,
     "metadata": {},
     "output_type": "execute_result"
    }
   ],
   "source": [
    "t.size"
   ]
  },
  {
   "cell_type": "code",
   "execution_count": 9,
   "metadata": {},
   "outputs": [],
   "source": [
    "z=3\n",
    "R=3\n",
    "y=np.sin(t)*(z-R*np.cos(t)) / (z**2 + R**2 - 2*z*R*np.cos(t))**1.5   "
   ]
  },
  {
   "cell_type": "code",
   "execution_count": 13,
   "metadata": {},
   "outputs": [
    {
     "data": {
      "text/plain": [
       "[<matplotlib.lines.Line2D at 0x7ff9d88a2b38>]"
      ]
     },
     "execution_count": 13,
     "metadata": {},
     "output_type": "execute_result"
    },
    {
     "data": {
      "image/png": "[encoded data removed]",
      "text/plain": [
       "<matplotlib.figure.Figure at 0x7ff9d890e240>"
      ]
     },
     "metadata": {},
     "output_type": "display_data"
    }
   ],
   "source": [
    "plt.plot(t,y)"
   ]
  },
  {
   "cell_type": "code",
   "execution_count": 14,
   "metadata": {
    "collapsed": true
   },
   "outputs": [],
   "source": [
    "z=5\n",
    "R=3\n",
    "y=np.sin(t)*(z-R*np.cos(t)) / (z**2 + R**2 - 2*z*R*np.cos(t))**1.5  "
   ]
  },
  {
   "cell_type": "code",
   "execution_count": 15,
   "metadata": {},
   "outputs": [
    {
     "data": {
      "text/plain": [
       "[<matplotlib.lines.Line2D at 0x7ff9d880d668>]"
      ]
     },
     "execution_count": 15,
     "metadata": {},
     "output_type": "execute_result"
    },
    {
     "data": {
      "image/png": "[encoded data removed]",
      "text/plain": [
       "<matplotlib.figure.Figure at 0x7ff9d88df7f0>"
      ]
     },
     "metadata": {},
     "output_type": "display_data"
    }
   ],
   "source": [
    "plt.plot(t,y)"
   ]
  },
  {
   "cell_type": "markdown",
   "metadata": {},
   "source": [
    "## how to integrate a function : integrand(t,z,R)  \n",
    "## t is the variable to integrate over.  \n",
    "## z, R are two parameters"
   ]
  },
  {
   "cell_type": "code",
   "execution_count": 46,
   "metadata": {
    "collapsed": true
   },
   "outputs": [],
   "source": [
    "from scipy.integrate import quad\n",
    "def integrand(t,z,R):\n",
    "    return np.sin(t)*(z-R*np.cos(t)) / (z**2 + R**2 - 2*z*R*np.cos(t))**1.5   "
   ]
  },
  {
   "cell_type": "markdown",
   "metadata": {},
   "source": [
    "## test function value"
   ]
  },
  {
   "cell_type": "code",
   "execution_count": 42,
   "metadata": {},
   "outputs": [
    {
     "name": "stderr",
     "output_type": "stream",
     "text": [
      "/home/how/anaconda3/lib/python3.6/site-packages/ipykernel_launcher.py:3: RuntimeWarning: invalid value encountered in double_scalars\n",
      "  This is separate from the ipykernel package so we can avoid doing imports until\n"
     ]
    },
    {
     "data": {
      "text/plain": [
       "nan"
      ]
     },
     "execution_count": 42,
     "metadata": {},
     "output_type": "execute_result"
    }
   ],
   "source": [
    "integrand(0.0,3,3)"
   ]
  },
  {
   "cell_type": "code",
   "execution_count": 43,
   "metadata": {},
   "outputs": [
    {
     "data": {
      "text/plain": [
       "0.055555388779227215"
      ]
     },
     "execution_count": 43,
     "metadata": {},
     "output_type": "execute_result"
    }
   ],
   "source": [
    "integrand(0.00001,3,3)"
   ]
  },
  {
   "cell_type": "code",
   "execution_count": 45,
   "metadata": {},
   "outputs": [
    {
     "data": {
      "text/plain": [
       "0.019999977856002511"
      ]
     },
     "execution_count": 45,
     "metadata": {},
     "output_type": "execute_result"
    }
   ],
   "source": [
    "integrand(0.00001,5,5)"
   ]
  },
  {
   "cell_type": "markdown",
   "metadata": {},
   "source": [
    "## if Z=R=3 and as t -> 0,   integrand -> 0.0555\n",
    "## the integrand is continuous at t=0"
   ]
  },
  {
   "cell_type": "code",
   "execution_count": null,
   "metadata": {
    "collapsed": true
   },
   "outputs": [],
   "source": []
  },
  {
   "cell_type": "markdown",
   "metadata": {},
   "source": [
    "## Ex 1:  a sphere with radius R=3"
   ]
  },
  {
   "cell_type": "code",
   "execution_count": 24,
   "metadata": {},
   "outputs": [
    {
     "name": "stdout",
     "output_type": "stream",
     "text": [
      "(0.22220742265296292, 3.0210286525425227e-09)\n"
     ]
    }
   ],
   "source": [
    "I=quad(integrand, 0, pi, args=(3.0001,3))\n",
    "print(I)"
   ]
  },
  {
   "cell_type": "code",
   "execution_count": 22,
   "metadata": {},
   "outputs": [
    {
     "name": "stdout",
     "output_type": "stream",
     "text": [
      "(4.89845351780982e-11, 4.3306142557687885e-10)\n"
     ]
    }
   ],
   "source": [
    "I=quad(integrand, 0, pi, args=(2.999,3))\n",
    "print(I)"
   ]
  },
  {
   "cell_type": "code",
   "execution_count": 23,
   "metadata": {},
   "outputs": [
    {
     "name": "stdout",
     "output_type": "stream",
     "text": [
      "(0.11111111111110672, 1.2335811384723474e-15)\n"
     ]
    }
   ],
   "source": [
    "I=quad(integrand,0,pi,args=(3,3))\n",
    "print(I)"
   ]
  },
  {
   "cell_type": "markdown",
   "metadata": {},
   "source": [
    "## R=3,   if z is a little above R, then the E-field should be   sigma/episilon_0 "
   ]
  },
  {
   "cell_type": "code",
   "execution_count": 28,
   "metadata": {},
   "outputs": [
    {
     "data": {
      "text/plain": [
       "1.99998"
      ]
     },
     "execution_count": 28,
     "metadata": {},
     "output_type": "execute_result"
    }
   ],
   "source": [
    "(0.22222) * 9"
   ]
  },
  {
   "cell_type": "markdown",
   "metadata": {},
   "source": [
    "## Ex 2: a sphere with radius R=5"
   ]
  },
  {
   "cell_type": "code",
   "execution_count": 47,
   "metadata": {},
   "outputs": [
    {
     "name": "stdout",
     "output_type": "stream",
     "text": [
      "(-4.799220743034738e-11, 5.974328744662739e-09)\n"
     ]
    }
   ],
   "source": [
    "I=quad(integrand, 0, pi, args=(4.999,5))\n",
    "print(I)"
   ]
  },
  {
   "cell_type": "code",
   "execution_count": 51,
   "metadata": {},
   "outputs": [
    {
     "name": "stdout",
     "output_type": "stream",
     "text": [
      "(0.0799680096672325, 6.235163242055558e-09)\n"
     ]
    }
   ],
   "source": [
    "I=quad(integrand, 0, pi, args=(5.001,5))\n",
    "print(I)"
   ]
  },
  {
   "cell_type": "code",
   "execution_count": 50,
   "metadata": {},
   "outputs": [
    {
     "name": "stdout",
     "output_type": "stream",
     "text": [
      "(0.040000000000001736, 4.440892098500818e-16)\n"
     ]
    }
   ],
   "source": [
    "I=quad(integrand, 0, pi, args=(5,5))\n",
    "print(I)"
   ]
  },
  {
   "cell_type": "code",
   "execution_count": 52,
   "metadata": {},
   "outputs": [
    {
     "data": {
      "text/plain": [
       "1.9992002416808"
      ]
     },
     "execution_count": 52,
     "metadata": {},
     "output_type": "execute_result"
    }
   ],
   "source": [
    "0.079968009667232*25"
   ]
  },
  {
   "cell_type": "code",
   "execution_count": null,
   "metadata": {
    "collapsed": true
   },
   "outputs": [],
   "source": []
  }
 ],
 "metadata": {
  "kernelspec": {
   "display_name": "Python 3",
   "language": "python",
   "name": "python3"
  },
  "language_info": {
   "codemirror_mode": {
    "name": "ipython",
    "version": 3
   },
   "file_extension": ".py",
   "mimetype": "text/x-python",
   "name": "python",
   "nbconvert_exporter": "python",
   "pygments_lexer": "ipython3",
   "version": "3.6.3"
  }
 },
 "nbformat": 4,
 "nbformat_minor": 2
}
